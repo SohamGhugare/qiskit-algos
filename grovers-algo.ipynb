{
 "cells": [
  {
   "cell_type": "markdown",
   "metadata": {},
   "source": [
    "# Grover's Search Algorithm\n",
    "This algorithm performs a search on an unstructured database / dataset and provides a quadratic boost in computation."
   ]
  },
  {
   "cell_type": "markdown",
   "metadata": {},
   "source": [
    "### Imports"
   ]
  },
  {
   "cell_type": "code",
   "execution_count": 30,
   "metadata": {},
   "outputs": [],
   "source": [
    "from qiskit import QuantumCircuit\n",
    "from qiskit_aer import AerSimulator\n",
    "from qiskit.visualization import plot_histogram\n",
    "import numpy as np"
   ]
  },
  {
   "cell_type": "markdown",
   "metadata": {},
   "source": [
    "### Preparing the dataset\n",
    "Here we have a list of integers and a target number to be found."
   ]
  },
  {
   "cell_type": "code",
   "execution_count": 22,
   "metadata": {},
   "outputs": [
    {
     "name": "stdout",
     "output_type": "stream",
     "text": [
      "Marked state: 101\n"
     ]
    }
   ],
   "source": [
    "numbers = [3, 7, 2, 1, 8, 5, 9, 4]\n",
    "target_number = 5\n",
    "target_index = numbers.index(target_number)\n",
    "marked_state = f\"{target_index:03b}\"\n",
    "print(f\"Marked state: {marked_state}\")"
   ]
  },
  {
   "cell_type": "markdown",
   "metadata": {},
   "source": [
    "### Oracle\n",
    "This function marks the target index. In other words, it flips the phase of the target phase."
   ]
  },
  {
   "cell_type": "code",
   "execution_count": 23,
   "metadata": {},
   "outputs": [],
   "source": [
    "def oracle(circuit: QuantumCircuit, n: int, marked_state: str):\n",
    "    for i in range(n):\n",
    "       if marked_state[i] == '0':\n",
    "           circuit.x(i) \n",
    "    circuit.h(n-1)\n",
    "    circuit.mcx(list(range(n-1)), n-1)\n",
    "    circuit.h(n-1)\n",
    "    for i in range(n):\n",
    "        if marked_state[i] == '0':\n",
    "            circuit.x(i)"
   ]
  },
  {
   "cell_type": "markdown",
   "metadata": {},
   "source": [
    "### Grover Diffusion\n",
    "This function reflects the quantum state about the average amplitude. In other words, it amplifies the marked state."
   ]
  },
  {
   "cell_type": "code",
   "execution_count": 24,
   "metadata": {},
   "outputs": [],
   "source": [
    "def grover_diffusion(circuit: QuantumCircuit, n: int):\n",
    "    circuit.h(range(n))\n",
    "    circuit.x(range(n))\n",
    "    circuit.h(n-1)\n",
    "    circuit.mcx(list(range(n-1)), n-1)\n",
    "    circuit.h(n-1)\n",
    "    circuit.x(range(n))\n",
    "    circuit.h(range(n))"
   ]
  },
  {
   "cell_type": "markdown",
   "metadata": {},
   "source": [
    "### Preparing the Circuit"
   ]
  },
  {
   "cell_type": "code",
   "execution_count": 25,
   "metadata": {},
   "outputs": [
    {
     "data": {
      "text/html": [
       "<pre style=\"word-wrap: normal;white-space: pre;background: #fff0;line-height: 1.1;font-family: &quot;Courier New&quot;,Courier,monospace\">     ┌───┐\n",
       "q_0: ┤ H ├\n",
       "     ├───┤\n",
       "q_1: ┤ H ├\n",
       "     ├───┤\n",
       "q_2: ┤ H ├\n",
       "     └───┘</pre>"
      ],
      "text/plain": [
       "     ┌───┐\n",
       "q_0: ┤ H ├\n",
       "     ├───┤\n",
       "q_1: ┤ H ├\n",
       "     ├───┤\n",
       "q_2: ┤ H ├\n",
       "     └───┘"
      ]
     },
     "execution_count": 25,
     "metadata": {},
     "output_type": "execute_result"
    }
   ],
   "source": [
    "n = 3\n",
    "grover_circuit = QuantumCircuit(n)\n",
    "grover_circuit.h(range(n))\n",
    "grover_circuit.draw()"
   ]
  },
  {
   "cell_type": "markdown",
   "metadata": {},
   "source": [
    "### Passing the circuit through the Oracle"
   ]
  },
  {
   "cell_type": "code",
   "execution_count": 26,
   "metadata": {},
   "outputs": [
    {
     "data": {
      "text/html": [
       "<pre style=\"word-wrap: normal;white-space: pre;background: #fff0;line-height: 1.1;font-family: &quot;Courier New&quot;,Courier,monospace\">     ┌───┐               \n",
       "q_0: ┤ H ├───────■───────\n",
       "     ├───┤┌───┐  │  ┌───┐\n",
       "q_1: ┤ H ├┤ X ├──■──┤ X ├\n",
       "     ├───┤├───┤┌─┴─┐├───┤\n",
       "q_2: ┤ H ├┤ H ├┤ X ├┤ H ├\n",
       "     └───┘└───┘└───┘└───┘</pre>"
      ],
      "text/plain": [
       "     ┌───┐               \n",
       "q_0: ┤ H ├───────■───────\n",
       "     ├───┤┌───┐  │  ┌───┐\n",
       "q_1: ┤ H ├┤ X ├──■──┤ X ├\n",
       "     ├───┤├───┤┌─┴─┐├───┤\n",
       "q_2: ┤ H ├┤ H ├┤ X ├┤ H ├\n",
       "     └───┘└───┘└───┘└───┘"
      ]
     },
     "execution_count": 26,
     "metadata": {},
     "output_type": "execute_result"
    }
   ],
   "source": [
    "oracle(grover_circuit, n, marked_state)\n",
    "grover_circuit.draw()"
   ]
  },
  {
   "cell_type": "markdown",
   "metadata": {},
   "source": [
    "### Passing the circuit through the Grover Diffusion"
   ]
  },
  {
   "cell_type": "code",
   "execution_count": 27,
   "metadata": {},
   "outputs": [
    {
     "data": {
      "text/html": [
       "<pre style=\"word-wrap: normal;white-space: pre;background: #fff0;line-height: 1.1;font-family: &quot;Courier New&quot;,Courier,monospace\">     ┌───┐          ┌───┐┌───┐               ┌───┐┌───┐     \n",
       "q_0: ┤ H ├───────■──┤ H ├┤ X ├────────────■──┤ X ├┤ H ├─────\n",
       "     ├───┤┌───┐  │  ├───┤├───┤┌───┐       │  ├───┤├───┤     \n",
       "q_1: ┤ H ├┤ X ├──■──┤ X ├┤ H ├┤ X ├───────■──┤ X ├┤ H ├─────\n",
       "     ├───┤├───┤┌─┴─┐├───┤├───┤├───┤┌───┐┌─┴─┐├───┤├───┤┌───┐\n",
       "q_2: ┤ H ├┤ H ├┤ X ├┤ H ├┤ H ├┤ X ├┤ H ├┤ X ├┤ H ├┤ X ├┤ H ├\n",
       "     └───┘└───┘└───┘└───┘└───┘└───┘└───┘└───┘└───┘└───┘└───┘</pre>"
      ],
      "text/plain": [
       "     ┌───┐          ┌───┐┌───┐               ┌───┐┌───┐     \n",
       "q_0: ┤ H ├───────■──┤ H ├┤ X ├────────────■──┤ X ├┤ H ├─────\n",
       "     ├───┤┌───┐  │  ├───┤├───┤┌───┐       │  ├───┤├───┤     \n",
       "q_1: ┤ H ├┤ X ├──■──┤ X ├┤ H ├┤ X ├───────■──┤ X ├┤ H ├─────\n",
       "     ├───┤├───┤┌─┴─┐├───┤├───┤├───┤┌───┐┌─┴─┐├───┤├───┤┌───┐\n",
       "q_2: ┤ H ├┤ H ├┤ X ├┤ H ├┤ H ├┤ X ├┤ H ├┤ X ├┤ H ├┤ X ├┤ H ├\n",
       "     └───┘└───┘└───┘└───┘└───┘└───┘└───┘└───┘└───┘└───┘└───┘"
      ]
     },
     "execution_count": 27,
     "metadata": {},
     "output_type": "execute_result"
    }
   ],
   "source": [
    "grover_diffusion(grover_circuit, n)\n",
    "grover_circuit.draw()"
   ]
  },
  {
   "cell_type": "markdown",
   "metadata": {},
   "source": [
    "### Iterating sqrt(2^n)-1 times"
   ]
  },
  {
   "cell_type": "code",
   "execution_count": 28,
   "metadata": {},
   "outputs": [
    {
     "data": {
      "text/html": [
       "<pre style=\"word-wrap: normal;white-space: pre;background: #fff0;line-height: 1.1;font-family: &quot;Courier New&quot;,Courier,monospace\">        ┌───┐          ┌───┐┌───┐               ┌───┐┌───┐               ┌───┐»\n",
       "   q_0: ┤ H ├───────■──┤ H ├┤ X ├────────────■──┤ X ├┤ H ├────────────■──┤ H ├»\n",
       "        ├───┤┌───┐  │  ├───┤├───┤┌───┐       │  ├───┤├───┤┌───┐       │  ├───┤»\n",
       "   q_1: ┤ H ├┤ X ├──■──┤ X ├┤ H ├┤ X ├───────■──┤ X ├┤ H ├┤ X ├───────■──┤ X ├»\n",
       "        ├───┤├───┤┌─┴─┐├───┤├───┤├───┤┌───┐┌─┴─┐├───┤├───┤├───┤┌───┐┌─┴─┐├───┤»\n",
       "   q_2: ┤ H ├┤ H ├┤ X ├┤ H ├┤ H ├┤ X ├┤ H ├┤ X ├┤ H ├┤ X ├┤ H ├┤ H ├┤ X ├┤ H ├»\n",
       "        └───┘└───┘└───┘└───┘└───┘└───┘└───┘└───┘└───┘└───┘└───┘└───┘└───┘└───┘»\n",
       "meas: 3/══════════════════════════════════════════════════════════════════════»\n",
       "                                                                              »\n",
       "«        ┌───┐               ┌───┐┌───┐      ░ ┌─┐      \n",
       "«   q_0: ┤ X ├────────────■──┤ X ├┤ H ├──────░─┤M├──────\n",
       "«        ├───┤┌───┐       │  ├───┤├───┤      ░ └╥┘┌─┐   \n",
       "«   q_1: ┤ H ├┤ X ├───────■──┤ X ├┤ H ├──────░──╫─┤M├───\n",
       "«        ├───┤├───┤┌───┐┌─┴─┐├───┤├───┤┌───┐ ░  ║ └╥┘┌─┐\n",
       "«   q_2: ┤ H ├┤ X ├┤ H ├┤ X ├┤ H ├┤ X ├┤ H ├─░──╫──╫─┤M├\n",
       "«        └───┘└───┘└───┘└───┘└───┘└───┘└───┘ ░  ║  ║ └╥┘\n",
       "«meas: 3/═══════════════════════════════════════╩══╩══╩═\n",
       "«                                               0  1  2 </pre>"
      ],
      "text/plain": [
       "        ┌───┐          ┌───┐┌───┐               ┌───┐┌───┐               ┌───┐»\n",
       "   q_0: ┤ H ├───────■──┤ H ├┤ X ├────────────■──┤ X ├┤ H ├────────────■──┤ H ├»\n",
       "        ├───┤┌───┐  │  ├───┤├───┤┌───┐       │  ├───┤├───┤┌───┐       │  ├───┤»\n",
       "   q_1: ┤ H ├┤ X ├──■──┤ X ├┤ H ├┤ X ├───────■──┤ X ├┤ H ├┤ X ├───────■──┤ X ├»\n",
       "        ├───┤├───┤┌─┴─┐├───┤├───┤├───┤┌───┐┌─┴─┐├───┤├───┤├───┤┌───┐┌─┴─┐├───┤»\n",
       "   q_2: ┤ H ├┤ H ├┤ X ├┤ H ├┤ H ├┤ X ├┤ H ├┤ X ├┤ H ├┤ X ├┤ H ├┤ H ├┤ X ├┤ H ├»\n",
       "        └───┘└───┘└───┘└───┘└───┘└───┘└───┘└───┘└───┘└───┘└───┘└───┘└───┘└───┘»\n",
       "meas: 3/══════════════════════════════════════════════════════════════════════»\n",
       "                                                                              »\n",
       "«        ┌───┐               ┌───┐┌───┐      ░ ┌─┐      \n",
       "«   q_0: ┤ X ├────────────■──┤ X ├┤ H ├──────░─┤M├──────\n",
       "«        ├───┤┌───┐       │  ├───┤├───┤      ░ └╥┘┌─┐   \n",
       "«   q_1: ┤ H ├┤ X ├───────■──┤ X ├┤ H ├──────░──╫─┤M├───\n",
       "«        ├───┤├───┤┌───┐┌─┴─┐├───┤├───┤┌───┐ ░  ║ └╥┘┌─┐\n",
       "«   q_2: ┤ H ├┤ X ├┤ H ├┤ X ├┤ H ├┤ X ├┤ H ├─░──╫──╫─┤M├\n",
       "«        └───┘└───┘└───┘└───┘└───┘└───┘└───┘ ░  ║  ║ └╥┘\n",
       "«meas: 3/═══════════════════════════════════════╩══╩══╩═\n",
       "«                                               0  1  2 "
      ]
     },
     "execution_count": 28,
     "metadata": {},
     "output_type": "execute_result"
    }
   ],
   "source": [
    "for _ in range(int(np.sqrt(2**n))-1):\n",
    "    oracle(grover_circuit, n, marked_state)\n",
    "    grover_diffusion(grover_circuit, n)\n",
    "grover_circuit.measure_all()\n",
    "grover_circuit.draw()"
   ]
  },
  {
   "cell_type": "markdown",
   "metadata": {},
   "source": [
    "### Simulating the output\n",
    "Here, the marked state should have the most count"
   ]
  },
  {
   "cell_type": "code",
   "execution_count": 31,
   "metadata": {},
   "outputs": [
    {
     "name": "stdout",
     "output_type": "stream",
     "text": [
      "Measurement counts:  {'010': 4, '000': 7, '110': 9, '100': 7, '001': 6, '011': 4, '111': 14, '101': 973}\n"
     ]
    }
   ],
   "source": [
    "simulator = AerSimulator(method='statevector')\n",
    "job = simulator.run(grover_circuit, shots=1024)\n",
    "result = job.result()\n",
    "counts = result.get_counts()\n",
    "print(\"Measurement counts: \", counts)"
   ]
  },
  {
   "cell_type": "markdown",
   "metadata": {},
   "source": [
    "### Plotting the counts"
   ]
  },
  {
   "cell_type": "code",
   "execution_count": 32,
   "metadata": {},
   "outputs": [
    {
     "data": {
      "image/png": "[encoded data removed]",
      "text/plain": [
       "<Figure size 640x480 with 1 Axes>"
      ]
     },
     "execution_count": 32,
     "metadata": {},
     "output_type": "execute_result"
    }
   ],
   "source": [
    "plot_histogram(counts)"
   ]
  }
 ],
 "metadata": {
  "kernelspec": {
   "display_name": "qiskit",
   "language": "python",
   "name": "python3"
  },
  "language_info": {
   "codemirror_mode": {
    "name": "ipython",
    "version": 3
   },
   "file_extension": ".py",
   "mimetype": "text/x-python",
   "name": "python",
   "nbconvert_exporter": "python",
   "pygments_lexer": "ipython3",
   "version": "3.12.4"
  }
 },
 "nbformat": 4,
 "nbformat_minor": 2
}
